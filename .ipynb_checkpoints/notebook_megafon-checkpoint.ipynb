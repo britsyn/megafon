{
 "cells": [
  {
   "cell_type": "markdown",
   "metadata": {},
   "source": [
    "# Мегафон пробный контест "
   ]
  },
  {
   "cell_type": "code",
   "execution_count": 2,
   "metadata": {},
   "outputs": [],
   "source": [
    "import pandas as pd\n",
    "import numpy as np \n",
    "import matplotlib.pyplot as plt"
   ]
  },
  {
   "cell_type": "code",
   "execution_count": 4,
   "metadata": {},
   "outputs": [
    {
     "data": {
      "text/html": [
       "<div>\n",
       "<style scoped>\n",
       "    .dataframe tbody tr th:only-of-type {\n",
       "        vertical-align: middle;\n",
       "    }\n",
       "\n",
       "    .dataframe tbody tr th {\n",
       "        vertical-align: top;\n",
       "    }\n",
       "\n",
       "    .dataframe thead th {\n",
       "        text-align: right;\n",
       "    }\n",
       "</style>\n",
       "<table border=\"1\" class=\"dataframe\">\n",
       "  <thead>\n",
       "    <tr style=\"text-align: right;\">\n",
       "      <th></th>\n",
       "      <th>ID</th>\n",
       "      <th>FEATURE_0</th>\n",
       "      <th>FEATURE_1</th>\n",
       "      <th>FEATURE_2</th>\n",
       "      <th>FEATURE_3</th>\n",
       "      <th>FEATURE_4</th>\n",
       "      <th>FEATURE_5</th>\n",
       "      <th>FEATURE_6</th>\n",
       "      <th>FEATURE_7</th>\n",
       "      <th>FEATURE_8</th>\n",
       "      <th>...</th>\n",
       "      <th>FEATURE_250</th>\n",
       "      <th>FEATURE_251</th>\n",
       "      <th>FEATURE_252</th>\n",
       "      <th>FEATURE_253</th>\n",
       "      <th>FEATURE_254</th>\n",
       "      <th>FEATURE_255</th>\n",
       "      <th>FEATURE_256</th>\n",
       "      <th>FEATURE_257</th>\n",
       "      <th>FEATURE_258</th>\n",
       "      <th>FEATURE_259</th>\n",
       "    </tr>\n",
       "  </thead>\n",
       "  <tbody>\n",
       "    <tr>\n",
       "      <th>0</th>\n",
       "      <td>1154270440</td>\n",
       "      <td>1.0</td>\n",
       "      <td>1.0</td>\n",
       "      <td>0.0</td>\n",
       "      <td>0.0</td>\n",
       "      <td>0.0</td>\n",
       "      <td>0.0</td>\n",
       "      <td>0.0</td>\n",
       "      <td>-46.950807</td>\n",
       "      <td>-45.018511</td>\n",
       "      <td>...</td>\n",
       "      <td>0.0</td>\n",
       "      <td>0.0</td>\n",
       "      <td>190.587701</td>\n",
       "      <td>162.047775</td>\n",
       "      <td>1.0</td>\n",
       "      <td>0.0</td>\n",
       "      <td>1.0</td>\n",
       "      <td>1.0</td>\n",
       "      <td>1.0</td>\n",
       "      <td>1.0</td>\n",
       "    </tr>\n",
       "    <tr>\n",
       "      <th>1</th>\n",
       "      <td>1147987574</td>\n",
       "      <td>0.0</td>\n",
       "      <td>0.0</td>\n",
       "      <td>1.0</td>\n",
       "      <td>0.0</td>\n",
       "      <td>0.0</td>\n",
       "      <td>0.0</td>\n",
       "      <td>0.0</td>\n",
       "      <td>343.627489</td>\n",
       "      <td>NaN</td>\n",
       "      <td>...</td>\n",
       "      <td>5.0</td>\n",
       "      <td>109.0</td>\n",
       "      <td>594.572663</td>\n",
       "      <td>685.500149</td>\n",
       "      <td>1.0</td>\n",
       "      <td>1.0</td>\n",
       "      <td>0.0</td>\n",
       "      <td>1.0</td>\n",
       "      <td>1.0</td>\n",
       "      <td>2.0</td>\n",
       "    </tr>\n",
       "    <tr>\n",
       "      <th>2</th>\n",
       "      <td>1129622364</td>\n",
       "      <td>0.0</td>\n",
       "      <td>0.0</td>\n",
       "      <td>0.0</td>\n",
       "      <td>0.0</td>\n",
       "      <td>1.0</td>\n",
       "      <td>0.0</td>\n",
       "      <td>0.0</td>\n",
       "      <td>909.178045</td>\n",
       "      <td>3260.445427</td>\n",
       "      <td>...</td>\n",
       "      <td>0.0</td>\n",
       "      <td>297.0</td>\n",
       "      <td>10.214396</td>\n",
       "      <td>300.397949</td>\n",
       "      <td>0.0</td>\n",
       "      <td>0.0</td>\n",
       "      <td>0.0</td>\n",
       "      <td>1.0</td>\n",
       "      <td>1.0</td>\n",
       "      <td>1.0</td>\n",
       "    </tr>\n",
       "    <tr>\n",
       "      <th>3</th>\n",
       "      <td>619797496</td>\n",
       "      <td>6.0</td>\n",
       "      <td>2.0</td>\n",
       "      <td>0.0</td>\n",
       "      <td>0.0</td>\n",
       "      <td>0.0</td>\n",
       "      <td>0.0</td>\n",
       "      <td>0.0</td>\n",
       "      <td>-4.499021</td>\n",
       "      <td>-93.374738</td>\n",
       "      <td>...</td>\n",
       "      <td>1.0</td>\n",
       "      <td>2.0</td>\n",
       "      <td>334.873280</td>\n",
       "      <td>363.739214</td>\n",
       "      <td>1.0</td>\n",
       "      <td>1.0</td>\n",
       "      <td>1.0</td>\n",
       "      <td>2.0</td>\n",
       "      <td>2.0</td>\n",
       "      <td>1.0</td>\n",
       "    </tr>\n",
       "    <tr>\n",
       "      <th>4</th>\n",
       "      <td>7391484886</td>\n",
       "      <td>1.0</td>\n",
       "      <td>1.0</td>\n",
       "      <td>0.0</td>\n",
       "      <td>0.0</td>\n",
       "      <td>0.0</td>\n",
       "      <td>0.0</td>\n",
       "      <td>0.0</td>\n",
       "      <td>-23.189787</td>\n",
       "      <td>-35.810318</td>\n",
       "      <td>...</td>\n",
       "      <td>83.0</td>\n",
       "      <td>136.0</td>\n",
       "      <td>551.413748</td>\n",
       "      <td>769.830050</td>\n",
       "      <td>1.0</td>\n",
       "      <td>1.0</td>\n",
       "      <td>0.0</td>\n",
       "      <td>1.0</td>\n",
       "      <td>1.0</td>\n",
       "      <td>1.0</td>\n",
       "    </tr>\n",
       "  </tbody>\n",
       "</table>\n",
       "<p>5 rows × 261 columns</p>\n",
       "</div>"
      ],
      "text/plain": [
       "           ID  FEATURE_0  FEATURE_1  FEATURE_2  FEATURE_3  FEATURE_4  \\\n",
       "0  1154270440        1.0        1.0        0.0        0.0        0.0   \n",
       "1  1147987574        0.0        0.0        1.0        0.0        0.0   \n",
       "2  1129622364        0.0        0.0        0.0        0.0        1.0   \n",
       "3   619797496        6.0        2.0        0.0        0.0        0.0   \n",
       "4  7391484886        1.0        1.0        0.0        0.0        0.0   \n",
       "\n",
       "   FEATURE_5  FEATURE_6   FEATURE_7    FEATURE_8  ...  FEATURE_250  \\\n",
       "0        0.0        0.0  -46.950807   -45.018511  ...          0.0   \n",
       "1        0.0        0.0  343.627489          NaN  ...          5.0   \n",
       "2        0.0        0.0  909.178045  3260.445427  ...          0.0   \n",
       "3        0.0        0.0   -4.499021   -93.374738  ...          1.0   \n",
       "4        0.0        0.0  -23.189787   -35.810318  ...         83.0   \n",
       "\n",
       "   FEATURE_251  FEATURE_252  FEATURE_253  FEATURE_254  FEATURE_255  \\\n",
       "0          0.0   190.587701   162.047775          1.0          0.0   \n",
       "1        109.0   594.572663   685.500149          1.0          1.0   \n",
       "2        297.0    10.214396   300.397949          0.0          0.0   \n",
       "3          2.0   334.873280   363.739214          1.0          1.0   \n",
       "4        136.0   551.413748   769.830050          1.0          1.0   \n",
       "\n",
       "   FEATURE_256  FEATURE_257  FEATURE_258  FEATURE_259  \n",
       "0          1.0          1.0          1.0          1.0  \n",
       "1          0.0          1.0          1.0          2.0  \n",
       "2          0.0          1.0          1.0          1.0  \n",
       "3          1.0          2.0          2.0          1.0  \n",
       "4          0.0          1.0          1.0          1.0  \n",
       "\n",
       "[5 rows x 261 columns]"
      ]
     },
     "execution_count": 4,
     "metadata": {},
     "output_type": "execute_result"
    }
   ],
   "source": [
    "train = pd.read_csv('https://raw.githubusercontent.com/britsyn/megafon/master/contest_test.csv')\n",
    "train.head()"
   ]
  },
  {
   "cell_type": "code",
   "execution_count": 8,
   "metadata": {},
   "outputs": [
    {
     "data": {
      "text/plain": [
       "(24521, 262)"
      ]
     },
     "execution_count": 8,
     "metadata": {},
     "output_type": "execute_result"
    }
   ],
   "source": [
    "train.shape"
   ]
  },
  {
   "cell_type": "markdown",
   "metadata": {},
   "source": [
    "Начнём препроцессинг:"
   ]
  },
  {
   "cell_type": "code",
   "execution_count": 14,
   "metadata": {},
   "outputs": [
    {
     "data": {
      "text/plain": [
       "True"
      ]
     },
     "execution_count": 14,
     "metadata": {},
     "output_type": "execute_result"
    }
   ],
   "source": [
    "train.isnull().values.any()"
   ]
  },
  {
   "cell_type": "code",
   "execution_count": 19,
   "metadata": {},
   "outputs": [
    {
     "data": {
      "text/plain": [
       "False"
      ]
     },
     "execution_count": 19,
     "metadata": {},
     "output_type": "execute_result"
    }
   ],
   "source": [
    "(train.dtypes == \"object\").values.any()"
   ]
  },
  {
   "cell_type": "markdown",
   "metadata": {},
   "source": [
    "Категориальных признаков, видимо, нет, а значит все признаки либо количественные, либо бинарные: используем Simple Imputer и заполним средним значением пустые строки"
   ]
  },
  {
   "cell_type": "code",
   "execution_count": null,
   "metadata": {},
   "outputs": [],
   "source": []
  }
 ],
 "metadata": {
  "kernelspec": {
   "display_name": "Python 3",
   "language": "python",
   "name": "python3"
  },
  "language_info": {
   "codemirror_mode": {
    "name": "ipython",
    "version": 3
   },
   "file_extension": ".py",
   "mimetype": "text/x-python",
   "name": "python",
   "nbconvert_exporter": "python",
   "pygments_lexer": "ipython3",
   "version": "3.8.5"
  }
 },
 "nbformat": 4,
 "nbformat_minor": 4
}
